{
 "cells": [
  {
   "cell_type": "code",
   "execution_count": 1,
   "id": "fcdd4cf9",
   "metadata": {},
   "outputs": [
    {
     "name": "stdout",
     "output_type": "stream",
     "text": [
      "Before exchanging: x is 5 and y is 10\n",
      "After exchanging: x is 10 and y is 5\n"
     ]
    }
   ],
   "source": [
    "#Question number 1\n",
    "\"\"\"Declare two variables, `x` and `y`, and assign them integer values. Swap the values of these variables without using any temporary variable.\"\"\"\n",
    "#Answer \n",
    "#consider\n",
    "# Step 1: Declare and initialize variables\n",
    "x = 5\n",
    "y = 10\n",
    "\n",
    "def exchange_values(x, y):\n",
    " print(f\"Before exchanging: x is {x} and y is {y}\")\n",
    " x, y = y, x\n",
    " print(f\"After exchanging: x is {x} and y is {y}\")\n",
    "\n",
    "exchange_values(x, y)\n"
   ]
  },
  {
   "cell_type": "code",
   "execution_count": 2,
   "id": "76a3c739",
   "metadata": {},
   "outputs": [
    {
     "name": "stdout",
     "output_type": "stream",
     "text": [
      "length of the rectangle:99\n",
      "Enter the width of the rectangle:11\n",
      "The area of the rectangle is: 1089.0\n"
     ]
    }
   ],
   "source": [
    "#Question number 2\n",
    "\"\"\"Create a program that calculates the area of a rectangle. Take the length and width as inputs from the user and store them in variables. Calculate and\n",
    "display the area.\"\"\"\n",
    "#answer \n",
    "#To calculate the area of the rectangle \n",
    "#Area of the ractangle = leangth of the rectangle * width of the rectangle \n",
    "\n",
    "\n",
    "length = float(input(\"length of the rectangle:\"))\n",
    "width = float(input(\"Enter the width of the rectangle:\"))\n",
    "\n",
    "#To Calculate the area\n",
    "area = length * width\n",
    "print(\"The area of the rectangle is:\", area)\n"
   ]
  },
  {
   "cell_type": "code",
   "execution_count": 3,
   "id": "bbc4ac13",
   "metadata": {},
   "outputs": [
    {
     "name": "stdout",
     "output_type": "stream",
     "text": [
      "Temperature in Celsius:33\n",
      "The temperature in Fahrenheit is: 91.4 degrees Fahrenheit\n"
     ]
    }
   ],
   "source": [
    "#Question number 3 \n",
    "\"\"\"Write a Python program that converts temperatures from Celsius to Fahrenheit. Take the temperature in Celsius as input, store it in a variable, convert it to Fahrenheit, and display the result.\"\"\"\n",
    "#answer \n",
    "\n",
    "#temperature in Celsius\n",
    "celsius = float(input(\"Temperature in Celsius:\"))\n",
    "\n",
    "# Convert Celsius to Fahrenheit\n",
    "fahrenheit = (celsius * 9/5) + 32\n",
    "\n",
    "# temperature in Fahrenheit\n",
    "print(f\"The temperature in Fahrenheit is: {fahrenheit} degrees Fahrenheit\")\n"
   ]
  },
  {
   "cell_type": "code",
   "execution_count": 4,
   "id": "e39a2e9c",
   "metadata": {},
   "outputs": [
    {
     "name": "stdout",
     "output_type": "stream",
     "text": [
      "Enter a string: I'm Sahana, python program is new to me \n",
      "The length of the string is: 40\n"
     ]
    }
   ],
   "source": [
    "#question 4 \n",
    "\"\"\" Write a Python program that takes a string as input and prints the length of the string\"\"\"\n",
    "#answer\n",
    "\n",
    "# string input\n",
    "input_string = input(\"Enter a string: \")\n",
    "\n",
    "#Calculate and display the length of the string\n",
    "string_length = len(input_string)\n",
    "print(f\"The length of the string is: {string_length}\")\n"
   ]
  },
  {
   "cell_type": "code",
   "execution_count": null,
   "id": "7536cc5d",
   "metadata": {},
   "outputs": [],
   "source": []
  }
 ],
 "metadata": {
  "kernelspec": {
   "display_name": "Python 3 (ipykernel)",
   "language": "python",
   "name": "python3"
  },
  "language_info": {
   "codemirror_mode": {
    "name": "ipython",
    "version": 3
   },
   "file_extension": ".py",
   "mimetype": "text/x-python",
   "name": "python",
   "nbconvert_exporter": "python",
   "pygments_lexer": "ipython3",
   "version": "3.11.3"
  }
 },
 "nbformat": 4,
 "nbformat_minor": 5
}
